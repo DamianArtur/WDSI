{
 "cells": [
  {
   "cell_type": "code",
   "execution_count": 1,
   "id": "6e13a738-527f-447a-8645-b80a3e68ad15",
   "metadata": {},
   "outputs": [
    {
     "name": "stderr",
     "output_type": "stream",
     "text": [
      "WARNING (pytensor.configdefaults): g++ not detected!  PyTensor will be unable to compile C-implementations and will default to Python. Performance may be severely degraded. To remove this warning, set PyTensor flags cxx to an empty string.\n",
      "WARNING (pytensor.tensor.blas): Using NumPy C-API based implementation for BLAS functions.\n"
     ]
    }
   ],
   "source": [
    "import pymc as pm\n",
    "import arviz as az\n",
    "import numpy as np"
   ]
  },
  {
   "cell_type": "code",
   "execution_count": 2,
   "id": "7719e799-8ae3-4f5a-af67-2906b141dfc9",
   "metadata": {},
   "outputs": [
    {
     "name": "stdout",
     "output_type": "stream",
     "text": [
      "Pymc3 version: 5.10.4\n",
      "Arviz version: 0.17.0\n",
      "Numpy version: 1.26.4\n"
     ]
    }
   ],
   "source": [
    "print('Pymc3 version:', pm.__version__)\n",
    "print('Arviz version:', az.__version__)\n",
    "print('Numpy version:', np.__version__)"
   ]
  },
  {
   "cell_type": "markdown",
   "id": "62d947f1-c90e-4c97-b4ad-be92265a3a67",
   "metadata": {},
   "source": [
    "### Zadanie 1"
   ]
  },
  {
   "cell_type": "markdown",
   "id": "e192085c-9000-494f-ab46-281a11a475b3",
   "metadata": {},
   "source": [
    "Hipotezy:\n",
    "\n",
    "- $H_1$ główny podejrzany zabił,\n",
    "- $H_2$ główny podejrzany nie zabił, \n",
    "\n",
    "Fakty:\n",
    "\n",
    "- $E_1$ na miejscu zbrodni znaleziono odciski palców głównego podejrzanego,\n",
    "- $E_2$ główny podejrzany nie ma alibi na czas popełnienia zabójstwa,\n",
    "- $E_3$ główny podejrzany miał motyw zabicia ofiary,\n",
    "- $E_4$ główny podejrzany był widziany w sądziedztwie miejsca, w którym mieszka nielegalny handlarz bronią,\n",
    "- $E_5$ świadek zbrodni podał rysopis zabójcy nie pasujący do głównego podejrzanego. \n",
    "\n",
    "Prawdopodobieństwa:\n",
    "\n",
    "$P(E_1|H_1)=0.7,\\qquad P(E_1|H_2)=0.3,$\n",
    "\n",
    "$P(E_2|H_1)=0.8,\\qquad P(E_2|H_2)=0.4,$\n",
    "\n",
    "$P(E_3|H_1)=0.9,\\qquad P(E_3|H_2)=0.5,$\n",
    "\n",
    "$P(E_4|H_1)=0.4,\\qquad P(E_4|H_2)=0.2,$\n",
    "\n",
    "$P(E_5|H_1)=0.2,\\qquad P(E_5|H_2)=0.4.$ \n",
    "\n",
    "__W którym przypadku prawdopodobieństwo popełnienia zabójstwa byłoby największe?__\n",
    "\n",
    "1. Gdyby znaleziono na miejscu zbrodni jego odciski palców.\n",
    "2. Gdyby stwierdzono, że nie miał alibi i miał motyw.\n",
    "3. Gdyby znaleziono na miejscu zbrodni jego odciski palców oraz stwierdzono, że był widziany w sąsiedztwie miejsca, w którym mieszka nielegalny handlarz bronią, ale świadek zbrodni podał rysopis zabójcy nie pasujący do głównego podejrzanego."
   ]
  },
  {
   "cell_type": "code",
   "execution_count": 3,
   "id": "3534002e-e662-4dec-9fed-dbb3e88b8c1c",
   "metadata": {},
   "outputs": [],
   "source": [
    "with pm.Model() as zabojstwo_model:\n",
    "    # zmienna zabił o rozkładzie Bernoulliego z prawd. 0.5,\n",
    "    # z prawd. 0.5 True (zabił), z prawd. 0.5 False (nie zabił)\n",
    "    zabil = pm.Bernoulli('zabil', 0.5)\n",
    "\n",
    "    # prawd. znalezienia odcisków palcow pod warunkiem że zabił\n",
    "    # jeżeli zabił to p_odciski=0.7, jeżeli nie zabił to p_odciski=0.3\n",
    "    p_odciski = pm.Deterministic('p_odciski', pm.math.switch(zabil, 0.7, 0.3))\n",
    "    # zmienna odciski o rozkładie Bernoulliego\n",
    "    odciski = pm.Bernoulli('odciski', p_odciski)\n",
    "\n",
    "    # prawd. braku alibi podejrzanego pod warunkiem że zabił\n",
    "    # jeżeli zabił to p_brak_alibi=0.8, jeżeli nie zabił to p_brak_alibi=0.4\n",
    "    p_brak_alibi = pm.Deterministic('p_brak_alibi', pm.math.switch(zabil, 0.8, 0.4))\n",
    "    # zmienna brak_alibi o rozkładie Bernoulliego\n",
    "    brak_alibi = pm.Bernoulli('brak_alibi', p_brak_alibi)\n",
    "\n",
    "    # prawd. posiadania motywu pod warunkiem że zabił\n",
    "    # jeżeli zabił to p_motyw=0.9, jeżeli nie zabił to p_motyw=0.5\n",
    "    p_motyw = pm.Deterministic('p_motyw', pm.math.switch(zabil, 0.9, 0.5))\n",
    "    # zmienna motyw o rozkładie Bernoulliego\n",
    "    motyw = pm.Bernoulli('motyw', p_motyw)\n",
    "\n",
    "    # prawd. bycia widzianym obok domu handlarza bronia pod warunkiem że zabił\n",
    "    # jeżeli zabił to p_obok_handlarza=0.4, jeżeli nie zabił to p_obok_handlarza=0.2\n",
    "    p_obok_handlarza = pm.Deterministic('p_obok_handlarza', pm.math.switch(zabil, 0.4, 0.2))\n",
    "    # zmienna obok_handlarza o rozkładie Bernoulliego\n",
    "    obok_handlarza = pm.Bernoulli('obok_handlarza', p_obok_handlarza)\n",
    "\n",
    "    # prawd. podania niepoprawnego rysopisu pod warunkiem że zabił\n",
    "    # jeżeli zabił to p_niepoprawny_rysopis=0.2, jeżeli nie zabił to p_niepoprawny_rysopis=0.4\n",
    "    p_niepoprawny_rysopis = pm.Deterministic('p_niepoprawny_rysopis', pm.math.switch(zabil, 0.2, 0.4))\n",
    "    # zmienna niepoprawny_rysopis o rozkładie Bernoulliego\n",
    "    niepoprawny_rysopis = pm.Bernoulli('niepoprawny_rysopis', p_niepoprawny_rysopis)"
   ]
  },
  {
   "cell_type": "code",
   "execution_count": 4,
   "id": "95f46297-1e56-41b6-b4b9-febffb070a7e",
   "metadata": {},
   "outputs": [
    {
     "name": "stderr",
     "output_type": "stream",
     "text": [
      "Sequential sampling (1 chains in 1 job)\n",
      "BinaryGibbsMetropolis: [zabil, odciski, brak_alibi, motyw, obok_handlarza, niepoprawny_rysopis]\n"
     ]
    },
    {
     "data": {
      "text/html": [
       "\n",
       "<style>\n",
       "    /* Turns off some styling */\n",
       "    progress {\n",
       "        /* gets rid of default border in Firefox and Opera. */\n",
       "        border: none;\n",
       "        /* Needs to be in here for Safari polyfill so background images work as expected. */\n",
       "        background-size: auto;\n",
       "    }\n",
       "    progress:not([value]), progress:not([value])::-webkit-progress-bar {\n",
       "        background: repeating-linear-gradient(45deg, #7e7e7e, #7e7e7e 10px, #5c5c5c 10px, #5c5c5c 20px);\n",
       "    }\n",
       "    .progress-bar-interrupted, .progress-bar-interrupted::-webkit-progress-bar {\n",
       "        background: #F44336;\n",
       "    }\n",
       "</style>\n"
      ],
      "text/plain": [
       "<IPython.core.display.HTML object>"
      ]
     },
     "metadata": {},
     "output_type": "display_data"
    },
    {
     "data": {
      "text/html": [
       "\n",
       "    <div>\n",
       "      <progress value='11000' class='' max='11000' style='width:300px; height:20px; vertical-align: middle;'></progress>\n",
       "      100.00% [11000/11000 00:15&lt;00:00 Sampling chain 0, 0 divergences]\n",
       "    </div>\n",
       "    "
      ],
      "text/plain": [
       "<IPython.core.display.HTML object>"
      ]
     },
     "metadata": {},
     "output_type": "display_data"
    },
    {
     "name": "stderr",
     "output_type": "stream",
     "text": [
      "Sampling 1 chain for 1_000 tune and 10_000 draw iterations (1_000 + 10_000 draws total) took 15 seconds.\n",
      "Only one chain was sampled, this makes it impossible to run some convergence checks\n"
     ]
    }
   ],
   "source": [
    "with zabojstwo_model:\n",
    "    trace = pm.sample(10000, chains=1, return_inferencedata=True)"
   ]
  },
  {
   "cell_type": "code",
   "execution_count": 5,
   "id": "dd58891f-afd6-4e2a-8f3b-ce05f3dd986b",
   "metadata": {},
   "outputs": [
    {
     "name": "stdout",
     "output_type": "stream",
     "text": [
      "p_zabil_odciski: 0.6881099382593109\n",
      "p_zabil_brak_alibi_motyw: 0.7892770819600088\n",
      "p_zabil_brak_alibi_motyw: 0.7075718015665796\n"
     ]
    }
   ],
   "source": [
    "# prawd. że podejrzany zabił pod warunkiem znalezienia na miejscu zbrodni jego odcisków palców\n",
    "p_zabil_odciski = (trace.posterior['zabil'].values[0]*trace.posterior['odciski'].values[0]).sum()/trace.posterior['odciski'].values[0].sum()\n",
    "print('p_zabil_odciski:', p_zabil_odciski)\n",
    "\n",
    "# prawd. że podejrzany zabił pod warunkiem że nie miał alibi i miał motyw\n",
    "p_zabil_brak_alibi_motyw = (trace.posterior['zabil'].values[0]*trace.posterior['brak_alibi'].values[0]*trace.posterior['motyw'].values[0]).sum()/(trace.posterior['brak_alibi'].values[0]*trace.posterior['motyw'].values[0]).sum()\n",
    "print('p_zabil_brak_alibi_motyw:', p_zabil_brak_alibi_motyw)\n",
    "\n",
    "# prawd. że podejrzany zabił pod warunkiem że znaleziono odciski, był widziany, rysopis nie pasował\n",
    "p_zabil_odciski_obok_handlarza_niepoprawny_rysopis = (trace.posterior['zabil'].values[0]*trace.posterior['odciski'].values[0]*trace.posterior['obok_handlarza'].values[0]*trace.posterior['niepoprawny_rysopis'].values[0]).sum()/(trace.posterior['odciski'].values[0]*trace.posterior['obok_handlarza'].values[0]*trace.posterior['niepoprawny_rysopis'].values[0]).sum()\n",
    "print('p_zabil_brak_alibi_motyw:', p_zabil_odciski_obok_handlarza_niepoprawny_rysopis)"
   ]
  },
  {
   "cell_type": "markdown",
   "id": "ae0b201b-8838-439e-a1d8-040f9ea89f07",
   "metadata": {},
   "source": [
    "### Zadanie 2"
   ]
  },
  {
   "cell_type": "markdown",
   "id": "5895f235-abb4-4f20-900b-c4e58f5d1ce6",
   "metadata": {},
   "source": [
    "Prawdopodobieństwo włamania: $P(B) = 0.001$\n",
    "\n",
    "Prawdopodobieństwo trzęsienia ziemi: $P(E) = 0.002$\n",
    "\n",
    "Prawdopodobieństwo uruchomienia się alarmu $P(A)$:\n",
    "| B | E | P(A\\|B,E)|\n",
    "| - | - | - |\n",
    "| T | T |  0.95 |\n",
    "| T | F |  0.94 |\n",
    "| F | T |  0.29 |\n",
    "| F | F | 0.001 |\n",
    "\n",
    "Prawdopodobieństwo, że John zadzwoni $P(J)$:\n",
    "| A | P(J\\|A) |\n",
    "| - | - |\n",
    "| T | 0.90 |\n",
    "| F | 0.05 |\n",
    "\n",
    "Prawdopodobieństwo, że Mary zadzwoni $P(M)$:\n",
    "| A | P(M\\|A) |\n",
    "| - | - |\n",
    "| T | 0.70 |\n",
    "| F | 0.01 |\n",
    "\n",
    "__Jakie jest prawdopodobieństwo, że:__\n",
    "1. włączy się alarm?\n",
    "2. doszło do włamanie jeśli wiadom, że włączył się alarm?\n",
    "3. zdarzyło się trzęsienie ziemi jeśli wiadomo, żę włączył się alarm?\n",
    "1. w razie włamania ktoś zadzwoni?\n",
    "2. zawiadomienie o włamaniu jest fałszywe?\n",
    "3. rozległ się alarm, przy czym nie wystąpiło ani trzęsienie ziemi ani włamanie, ale oboje John i Mary zadzwonili? (prawd. bezwarunkowe)"
   ]
  },
  {
   "cell_type": "code",
   "execution_count": 6,
   "id": "c28a2d78-9d91-4f26-8675-85b131c4018b",
   "metadata": {},
   "outputs": [
    {
     "name": "stderr",
     "output_type": "stream",
     "text": [
      "Sequential sampling (1 chains in 1 job)\n",
      "BinaryGibbsMetropolis: [burglary, earthquake, alarm, johnCalls, maryCalls]\n"
     ]
    },
    {
     "data": {
      "text/html": [
       "\n",
       "<style>\n",
       "    /* Turns off some styling */\n",
       "    progress {\n",
       "        /* gets rid of default border in Firefox and Opera. */\n",
       "        border: none;\n",
       "        /* Needs to be in here for Safari polyfill so background images work as expected. */\n",
       "        background-size: auto;\n",
       "    }\n",
       "    progress:not([value]), progress:not([value])::-webkit-progress-bar {\n",
       "        background: repeating-linear-gradient(45deg, #7e7e7e, #7e7e7e 10px, #5c5c5c 10px, #5c5c5c 20px);\n",
       "    }\n",
       "    .progress-bar-interrupted, .progress-bar-interrupted::-webkit-progress-bar {\n",
       "        background: #F44336;\n",
       "    }\n",
       "</style>\n"
      ],
      "text/plain": [
       "<IPython.core.display.HTML object>"
      ]
     },
     "metadata": {},
     "output_type": "display_data"
    },
    {
     "data": {
      "text/html": [
       "\n",
       "    <div>\n",
       "      <progress value='1001000' class='' max='1001000' style='width:300px; height:20px; vertical-align: middle;'></progress>\n",
       "      100.00% [1001000/1001000 14:37&lt;00:00 Sampling chain 0, 0 divergences]\n",
       "    </div>\n",
       "    "
      ],
      "text/plain": [
       "<IPython.core.display.HTML object>"
      ]
     },
     "metadata": {},
     "output_type": "display_data"
    },
    {
     "name": "stderr",
     "output_type": "stream",
     "text": [
      "Sampling 1 chain for 1_000 tune and 1_000_000 draw iterations (1_000 + 1_000_000 draws total) took 877 seconds.\n",
      "Only one chain was sampled, this makes it impossible to run some convergence checks\n"
     ]
    }
   ],
   "source": [
    "with pm.Model() as model:\n",
    "    burglary = pm.Bernoulli('burglary', 0.001)\n",
    "    earthquake = pm.Bernoulli('earthquake', 0.002)\n",
    "    alarm_p = pm.Deterministic('alarm_p', pm.math.switch(earthquake, pm.math.switch(burglary, 0.95, 0.29), pm.math.switch(burglary, 0.94, 0.001)))\n",
    "    alarm = pm.Bernoulli('alarm', alarm_p)\n",
    "    johnCalls_p = pm.Deterministic('johnCalls_p', pm.math.switch(alarm, 0.90, 0.05))\n",
    "    johnCalls = pm.Bernoulli('johnCalls', johnCalls_p)\n",
    "    maryCalls_p = pm.Deterministic('maryCalls_p', pm.math.switch(alarm, 0.70, 0.01))\n",
    "    maryCalls = pm.Bernoulli('maryCalls', maryCalls_p)\n",
    "\n",
    "    trace = pm.sample(1000000, chains=1, return_inferencedata=True)"
   ]
  },
  {
   "cell_type": "code",
   "execution_count": 7,
   "id": "0d1795e1-ce19-417c-a5b0-8ffbedc58737",
   "metadata": {},
   "outputs": [
    {
     "name": "stdout",
     "output_type": "stream",
     "text": [
      "p_alarm: 0.00259\n",
      "p_burglary_alarm: 0.37335907335907337\n",
      "p_earthquake_alarm: 0.23938223938223938\n",
      "p_calls_bulglary: 0.9127906976744186\n",
      "p_calls_notBurglary: 0.984818449934729\n",
      "p_alarm_notEarthquake_notBurglary_calls: 0.000636\n"
     ]
    }
   ],
   "source": [
    "#Jakie jest prawdopodobieństwo, że:\n",
    "\n",
    "#włączy się alarm\n",
    "p_alarm = trace.posterior['alarm'].values[0].sum()/len(trace.posterior['alarm'].values[0])\n",
    "print('p_alarm:', p_alarm)\n",
    "\n",
    "#doszło do włamania jeśli wiadomo, że włączył się alarm\n",
    "p_burglary_alarm = (trace.posterior['burglary'].values[0]*trace.posterior['alarm'].values[0]).sum()/trace.posterior['alarm'].values[0].sum()\n",
    "print('p_burglary_alarm:', p_burglary_alarm)\n",
    "\n",
    "#zdarzyło się trzęsienie ziemi jeśli wiadomo, żę włączył się alarm\n",
    "p_earthquake_alarm = (trace.posterior['earthquake'].values[0]*trace.posterior['alarm'].values[0]).sum()/trace.posterior['alarm'].values[0].sum()\n",
    "print('p_earthquake_alarm:', p_earthquake_alarm)\n",
    "\n",
    "#w razie włamania ktoś zadzwoni\n",
    "p_calls_bulglary = (np.logical_not(np.logical_not(trace.posterior['johnCalls'].values[0])*np.logical_not(trace.posterior['maryCalls'].values[0]))*trace.posterior['burglary'].values[0]).sum()/(trace.posterior['burglary'].values[0].sum())\n",
    "print('p_calls_bulglary:', p_calls_bulglary)\n",
    "\n",
    "#zawiadomienie o włamaniu jest fałszywe\n",
    "p_calls_notBurglary = (np.logical_not(np.logical_not(trace.posterior['johnCalls'].values[0])*np.logical_not(trace.posterior['maryCalls'].values[0]))*np.logical_not(trace.posterior['burglary'].values[0])).sum()/(np.logical_not(np.logical_not(trace.posterior['johnCalls'].values[0])*np.logical_not(trace.posterior['maryCalls'].values[0])).sum())\n",
    "print('p_calls_notBurglary:', p_calls_notBurglary)\n",
    "\n",
    "#rozległ się alarm, przy czym nie wystąpiło ani trzęsienie ziemi ani włamanie, ale oboje John i Mary zadzwonili\n",
    "p_alarm_notEarthquake_notBurglary_calls = (trace.posterior['alarm'].values[0]*np.logical_not(trace.posterior['earthquake'].values[0])*np.logical_not(trace.posterior['burglary'].values[0])*trace.posterior['maryCalls'].values[0]*trace.posterior['johnCalls'].values[0]).sum()/len(trace.posterior['alarm'].values[0])\n",
    "print('p_alarm_notEarthquake_notBurglary_calls:', p_alarm_notEarthquake_notBurglary_calls)"
   ]
  },
  {
   "cell_type": "code",
   "execution_count": null,
   "id": "3fed2e12-2ec8-4795-b35a-16d9cd1ec56e",
   "metadata": {},
   "outputs": [],
   "source": []
  }
 ],
 "metadata": {
  "kernelspec": {
   "display_name": "Python 3 (ipykernel)",
   "language": "python",
   "name": "python3"
  },
  "language_info": {
   "codemirror_mode": {
    "name": "ipython",
    "version": 3
   },
   "file_extension": ".py",
   "mimetype": "text/x-python",
   "name": "python",
   "nbconvert_exporter": "python",
   "pygments_lexer": "ipython3",
   "version": "3.11.6"
  }
 },
 "nbformat": 4,
 "nbformat_minor": 5
}
